{
 "cells": [
  {
   "cell_type": "markdown",
   "id": "7fdb53f1",
   "metadata": {},
   "source": [
    "# Pipelines and models"
   ]
  },
  {
   "cell_type": "code",
   "execution_count": 9,
   "id": "485db287",
   "metadata": {},
   "outputs": [],
   "source": [
    "# set up working catalog\n",
    "import sys\n",
    "from pathlib import Path\n",
    "sys.path.append(str(Path(\"..\")))\n",
    "\n",
    "# imports\n",
    "from common.utils import *\n",
    "\n",
    "import pandas as pd\n",
    "\n",
    "from sklearn.pipeline import Pipeline\n",
    "from sklearn.impute import SimpleImputer\n",
    "from sklearn.preprocessing import StandardScaler\n",
    "from sklearn.preprocessing import OneHotEncoder\n",
    "from sklearn.compose import ColumnTransformer\n",
    "from sklearn.linear_model import LogisticRegression\n",
    "from sklearn.svm import SVC\n",
    "from sklearn.tree import DecisionTreeClassifier\n",
    "from sklearn.metrics import accuracy_score"
   ]
  },
  {
   "cell_type": "code",
   "execution_count": 10,
   "id": "db52c407",
   "metadata": {},
   "outputs": [],
   "source": [
    "data = get_data()\n",
    "\n",
    "X = data.drop('Target', axis=1)\n",
    "y = data[\"Target\"]\n",
    "\n",
    "X_train, X_val, X_test, y_train, y_val, y_test = split(X, y)"
   ]
  },
  {
   "cell_type": "code",
   "execution_count": 11,
   "id": "59af7465",
   "metadata": {},
   "outputs": [],
   "source": [
    "numeric_pipeline = Pipeline([\n",
    "    (\"imputer\", SimpleImputer(strategy=\"median\")),                  # strategy=\"mean\"\n",
    "    (\"scaler\", StandardScaler()), \n",
    "])\n",
    "\n",
    "categoric_pipeline = Pipeline([\n",
    "    (\"imputer\", SimpleImputer(strategy=\"most_frequent\")),           # strategy=\"constant\"\n",
    "    (\"encoder\", OneHotEncoder(handle_unknown=\"ignore\"))\n",
    "])\n",
    "\n",
    "numeric_features = X.select_dtypes(include=[\"int64\", \"float64\"]).columns.tolist()\n",
    "categorical_features = X.select_dtypes(include=[\"object\", \"category\"]).columns.tolist()\n",
    "\n",
    "preprocessor = ColumnTransformer(\n",
    "    transformers=[\n",
    "        (\"num\", numeric_pipeline, numeric_features),\n",
    "        (\"cat\", categoric_pipeline, categorical_features)\n",
    "    ]\n",
    ")\n",
    "\n",
    "def train_and_predict(model, should_print=False):\n",
    "    pipeline = Pipeline([\n",
    "        (\"preprocessing\", preprocessor),\n",
    "        (\"classifier\", model)\n",
    "    ])\n",
    "    \n",
    "    pipeline.fit(X_train, y_train)\n",
    "    \n",
    "    y_pred_train = pipeline.predict(X_train)\n",
    "    y_pred_val = pipeline.predict(X_val)\n",
    "    y_pred_test = pipeline.predict(X_test)\n",
    "    \n",
    "    accuracy_train = accuracy_score(y_train, y_pred_train)\n",
    "    accuracy_validation = accuracy_score(y_val, y_pred_val)\n",
    "    accuracy_test = accuracy_score(y_test, y_pred_test)\n",
    "    \n",
    "    if should_print:\n",
    "        print(f\"===== {model} =====\")\n",
    "        print(f\"\\tTrain accuracy: {accuracy_train}\")\n",
    "        print(f\"\\tValidation accuracy: {accuracy_validation}\")\n",
    "        print(f\"\\tTest accuracy: {accuracy_test}\")\n",
    "    \n",
    "    return {\n",
    "        \"Model\": model.__class__.__name__,\n",
    "        \"Train accuracy\": accuracy_train,\n",
    "        \"Validation accuracy\": accuracy_validation,\n",
    "        \"Test accuracy\": accuracy_test\n",
    "    }"
   ]
  },
  {
   "cell_type": "code",
   "execution_count": 12,
   "id": "9c6e332b",
   "metadata": {},
   "outputs": [],
   "source": [
    "results = []"
   ]
  },
  {
   "cell_type": "code",
   "execution_count": 13,
   "id": "093c3a2f",
   "metadata": {},
   "outputs": [
    {
     "name": "stdout",
     "output_type": "stream",
     "text": [
      "===== LogisticRegression(max_iter=200) =====\n",
      "\tTrain accuracy: 0.8133074935400517\n",
      "\tValidation accuracy: 0.7984934086629002\n",
      "\tTest accuracy: 0.7565872020075283\n"
     ]
    }
   ],
   "source": [
    "result = train_and_predict(LogisticRegression(max_iter=200), should_print=True)\n",
    "results.append(result)"
   ]
  },
  {
   "cell_type": "code",
   "execution_count": 14,
   "id": "fb216114",
   "metadata": {},
   "outputs": [
    {
     "name": "stdout",
     "output_type": "stream",
     "text": [
      "===== DecisionTreeClassifier() =====\n",
      "\tTrain accuracy: 1.0\n",
      "\tValidation accuracy: 0.71939736346516\n",
      "\tTest accuracy: 0.6599749058971142\n"
     ]
    }
   ],
   "source": [
    "result = train_and_predict(DecisionTreeClassifier(), should_print=True)\n",
    "results.append(result)"
   ]
  },
  {
   "cell_type": "code",
   "execution_count": 15,
   "id": "fd7c0f2f",
   "metadata": {},
   "outputs": [
    {
     "name": "stdout",
     "output_type": "stream",
     "text": [
      "===== SVC() =====\n",
      "\tTrain accuracy: 0.8394702842377261\n",
      "\tValidation accuracy: 0.8060263653483992\n",
      "\tTest accuracy: 0.7478042659974906\n"
     ]
    }
   ],
   "source": [
    "result = train_and_predict(SVC(kernel='rbf'), should_print=True)\n",
    "results.append(result)"
   ]
  },
  {
   "cell_type": "code",
   "execution_count": 16,
   "id": "49423460",
   "metadata": {},
   "outputs": [
    {
     "data": {
      "text/html": [
       "<div>\n",
       "<style scoped>\n",
       "    .dataframe tbody tr th:only-of-type {\n",
       "        vertical-align: middle;\n",
       "    }\n",
       "\n",
       "    .dataframe tbody tr th {\n",
       "        vertical-align: top;\n",
       "    }\n",
       "\n",
       "    .dataframe thead th {\n",
       "        text-align: right;\n",
       "    }\n",
       "</style>\n",
       "<table border=\"1\" class=\"dataframe\">\n",
       "  <thead>\n",
       "    <tr style=\"text-align: right;\">\n",
       "      <th></th>\n",
       "      <th>Model</th>\n",
       "      <th>Train accuracy</th>\n",
       "      <th>Validation accuracy</th>\n",
       "      <th>Test accuracy</th>\n",
       "    </tr>\n",
       "  </thead>\n",
       "  <tbody>\n",
       "    <tr>\n",
       "      <th>0</th>\n",
       "      <td>LogisticRegression</td>\n",
       "      <td>0.813307</td>\n",
       "      <td>0.798493</td>\n",
       "      <td>0.756587</td>\n",
       "    </tr>\n",
       "    <tr>\n",
       "      <th>1</th>\n",
       "      <td>DecisionTreeClassifier</td>\n",
       "      <td>1.000000</td>\n",
       "      <td>0.719397</td>\n",
       "      <td>0.659975</td>\n",
       "    </tr>\n",
       "    <tr>\n",
       "      <th>2</th>\n",
       "      <td>SVC</td>\n",
       "      <td>0.839470</td>\n",
       "      <td>0.806026</td>\n",
       "      <td>0.747804</td>\n",
       "    </tr>\n",
       "  </tbody>\n",
       "</table>\n",
       "</div>"
      ],
      "text/plain": [
       "                    Model  Train accuracy  Validation accuracy  Test accuracy\n",
       "0      LogisticRegression        0.813307             0.798493       0.756587\n",
       "1  DecisionTreeClassifier        1.000000             0.719397       0.659975\n",
       "2                     SVC        0.839470             0.806026       0.747804"
      ]
     },
     "execution_count": 16,
     "metadata": {},
     "output_type": "execute_result"
    }
   ],
   "source": [
    "pd.DataFrame(results)"
   ]
  }
 ],
 "metadata": {
  "kernelspec": {
   "display_name": "msid2_pytorch",
   "language": "python",
   "name": "python3"
  },
  "language_info": {
   "codemirror_mode": {
    "name": "ipython",
    "version": 3
   },
   "file_extension": ".py",
   "mimetype": "text/x-python",
   "name": "python",
   "nbconvert_exporter": "python",
   "pygments_lexer": "ipython3",
   "version": "3.11.11"
  }
 },
 "nbformat": 4,
 "nbformat_minor": 5
}
