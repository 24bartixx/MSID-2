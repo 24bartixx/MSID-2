{
 "cells": [
  {
   "cell_type": "code",
   "execution_count": 24,
   "id": "485db287",
   "metadata": {},
   "outputs": [],
   "source": [
    "# set up working catalog\n",
    "import sys\n",
    "from pathlib import Path\n",
    "sys.path.append(str(Path(\"..\")))\n",
    "\n",
    "# imports\n",
    "from common.read_data import read_data\n",
    "\n",
    "from sklearn.model_selection import train_test_split\n",
    "from sklearn.pipeline import Pipeline\n",
    "from sklearn.impute import SimpleImputer\n",
    "from sklearn.preprocessing import StandardScaler\n",
    "from sklearn.preprocessing import OneHotEncoder\n",
    "from sklearn.compose import ColumnTransformer\n",
    "from sklearn.linear_model import LogisticRegression\n",
    "from sklearn.svm import SVC\n",
    "from sklearn.tree import DecisionTreeClassifier\n",
    "from sklearn.metrics import accuracy_score"
   ]
  },
  {
   "cell_type": "code",
   "execution_count": 25,
   "id": "db52c407",
   "metadata": {},
   "outputs": [],
   "source": [
    "data = read_data()\n",
    "\n",
    "X = data.drop('Target', axis=1)\n",
    "y = data[\"Target\"]\n",
    "\n",
    "X_train, X_test, y_train, y_test = train_test_split(X, y, test_size=0.2, random_state=30)"
   ]
  },
  {
   "cell_type": "code",
   "execution_count": 26,
   "id": "59af7465",
   "metadata": {},
   "outputs": [],
   "source": [
    "numeric_pipeline = Pipeline([\n",
    "    (\"imputer\", SimpleImputer(strategy=\"median\")),          # strategy=\"mean\"\n",
    "    (\"scaler\", StandardScaler()), \n",
    "])\n",
    "\n",
    "categoric_pipeline = Pipeline([\n",
    "    (\"imputer\", SimpleImputer(strategy=\"most_frequent\")),         # strategy=\"constant\"\n",
    "    (\"encoder\", OneHotEncoder(handle_unknown=\"ignore\"))\n",
    "])\n",
    "\n",
    "numeric_features = X.select_dtypes(include=[\"int64\", \"float64\"]).columns.tolist()\n",
    "categorical_features = X.select_dtypes(include=[\"object\", \"category\"]).columns.tolist()\n",
    "\n",
    "preprocessor = ColumnTransformer(\n",
    "    transformers=[\n",
    "        (\"num\", numeric_pipeline, numeric_features),\n",
    "        (\"cat\", categoric_pipeline, categorical_features)\n",
    "    ]\n",
    ")"
   ]
  },
  {
   "cell_type": "code",
   "execution_count": 27,
   "id": "6b5e09d4",
   "metadata": {},
   "outputs": [],
   "source": [
    "def train(model):\n",
    "    pipeline = Pipeline([\n",
    "        (\"preprocessing\", preprocessor),\n",
    "        (\"classifier\", model)\n",
    "    ])\n",
    "    pipeline.fit(X_train, y_train)\n",
    "    y_pred = pipeline.predict(X_test)\n",
    "    print(f\"===== {model} =====\")\n",
    "    print(f\"Accuracy: {accuracy_score(y_test, y_pred)}\")"
   ]
  },
  {
   "cell_type": "code",
   "execution_count": 28,
   "id": "093c3a2f",
   "metadata": {},
   "outputs": [
    {
     "name": "stdout",
     "output_type": "stream",
     "text": [
      "===== LogisticRegression(max_iter=200) =====\n",
      "Accuracy: 0.752542372881356\n"
     ]
    }
   ],
   "source": [
    "train(LogisticRegression(max_iter=200))"
   ]
  },
  {
   "cell_type": "code",
   "execution_count": 29,
   "id": "fb216114",
   "metadata": {},
   "outputs": [
    {
     "name": "stdout",
     "output_type": "stream",
     "text": [
      "===== DecisionTreeClassifier() =====\n",
      "Accuracy: 0.6621468926553672\n"
     ]
    }
   ],
   "source": [
    "train(DecisionTreeClassifier())"
   ]
  },
  {
   "cell_type": "code",
   "execution_count": 30,
   "id": "fd7c0f2f",
   "metadata": {},
   "outputs": [
    {
     "name": "stdout",
     "output_type": "stream",
     "text": [
      "===== SVC() =====\n",
      "Accuracy: 0.751412429378531\n"
     ]
    }
   ],
   "source": [
    "train(SVC(kernel='rbf'))"
   ]
  }
 ],
 "metadata": {
  "kernelspec": {
   "display_name": "msid_project2",
   "language": "python",
   "name": "python3"
  },
  "language_info": {
   "codemirror_mode": {
    "name": "ipython",
    "version": 3
   },
   "file_extension": ".py",
   "mimetype": "text/x-python",
   "name": "python",
   "nbconvert_exporter": "python",
   "pygments_lexer": "ipython3",
   "version": "3.13.2"
  }
 },
 "nbformat": 4,
 "nbformat_minor": 5
}
